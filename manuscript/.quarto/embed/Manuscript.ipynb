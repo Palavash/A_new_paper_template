{
 "cells": [
  {
   "cell_type": "markdown",
   "metadata": {},
   "source": [
    "# Title of paper\n",
    "\n",
    "Author 1<sup>1,2,\\*</sup>, Author 2<sup>2,3</sup>, Author 3<sup>1,2</sup> (<sup>1</sup>Heidelberg University, Centre for Organismal Studies (COS), 69120 Heidelberg, Germany <br> <sup>2</sup>Living Systems Institute, University of Exeter, Exeter, EX4 4QD, United Kingdom <br> <sup>3</sup>École Polytechnique Fédérale de Lausanne (EPFL), Lausanne, Switzerland <br> <sup>\\*</sup>Correspondence: <corr_author@email.com>)"
   ],
   "id": "876f89d3-b008-49e1-9d02-607c21c5d076"
  },
  {
   "cell_type": "code",
   "execution_count": null,
   "metadata": {
    "message.hidden": true,
    "warning.hidden": true
   },
   "outputs": [],
   "source": [
    "knitr::opts_chunk$set(echo = TRUE)"
   ],
   "id": "22b4913e-c5f9-4c82-9b8c-569de7196d21"
  },
  {
   "cell_type": "markdown",
   "metadata": {},
   "source": [
    "## Abstract\n",
    "\n",
    "This is an R Markdown document. Markdown is a simple formatting syntax for authoring HTML, PDF, and MS Word documents. For more details on using R Markdown see <http://rmarkdown.rstudio.com>.\n",
    "\n",
    "**text in bold** *italic* <u>underline</u>\n",
    "\n",
    "## Introduction\n",
    "\n",
    "You can add references either by referring to their id in the .bib file e.g., \\[@Marinkovi2020\\], or by switching to the visual editor (Cogwheel in the .Rmd menu -\\> Use Visual Editor).\n",
    "\n",
    "In the visual editor mode, go to ‘Insert’ -\\> @ Citation\n",
    "\n",
    "You can select a Zotero library, PubMed, CrossRef etc. and insert the citations.\n",
    "\n",
    "*Platynereis dumerilii* is a marine annelid… \\[@ozpolat2021\\]\n",
    "\n",
    "The references are stored in text/references.bib (defined in the Yaml header). This file will automatically beupdated when you insert a new reference.\n",
    "\n",
    "In this documents, references will be formatted in the style of eLife. This is defined in the Yaml header under: csl: elife.csl.\n",
    "\n",
    "If you would like to use a different format, download the .csl file (e.g., from the Zotero style repository <https://www.zotero.org/styles>), save it in the /text folder of the project and change the Yaml to csl: your_favourite_journal.csl.\n",
    "\n",
    "## Results\n",
    "\n",
    "Inserting Figures\n",
    "\n",
    "You can add your figures into the rendered document (to define the path, go up one dir from /text and go into /figures):"
   ],
   "id": "1bca610c-df13-4e77-ad65-a53a9090ba84"
  },
  {
   "cell_type": "code",
   "execution_count": null,
   "metadata": {
    "message.hidden": true,
    "warning.hidden": true
   },
   "outputs": [],
   "source": [
    "#knitr::include_graphics(\"figures/Figure1.png\")"
   ],
   "id": "1f6f5008-5a79-482a-9aa9-2c013b105ecc"
  },
  {
   "cell_type": "code",
   "execution_count": null,
   "metadata": {
    "message.hidden": true,
    "warning.hidden": true
   },
   "outputs": [
    {
     "output_type": "stream",
     "name": "stdout",
     "text": [
      "[1] \"/home/gj274/paper/new_paper_template\""
     ]
    }
   ],
   "source": [
    "here::here()"
   ],
   "id": "0ba6993f-3cb9-4147-9a10-5db420326953"
  },
  {
   "cell_type": "markdown",
   "metadata": {},
   "source": [
    "Equations can also be inserted, Insert -\\> Display Math:\n",
    "\n",
    "$$\n",
    "\\bar{X} = \\frac{\\sum_{i=1}^{n} x_{i}}{n}\n",
    "$$\n",
    "\n",
    "## Materials and Methods\n",
    "\n",
    "## Acknowledgements\n",
    "\n",
    "We would like to thank the Jekely lab for the R project template (<https://github.com/JekelyLab/new_paper_template>) we used to write this paper. This work was funded by …\n",
    "\n",
    "## References"
   ],
   "id": "76c63567-8008-47a3-8825-be6e26999a63"
  }
 ],
 "nbformat": 4,
 "nbformat_minor": 5,
 "metadata": {}
}
